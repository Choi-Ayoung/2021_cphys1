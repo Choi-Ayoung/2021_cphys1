{
 "cells": [
  {
   "cell_type": "markdown",
   "metadata": {},
   "source": [
    "$$ f_{n+1} = rf_{n}(1-f_{n}) $$"
   ]
  },
  {
   "cell_type": "code",
   "execution_count": 101,
   "metadata": {},
   "outputs": [
    {
     "name": "stdout",
     "output_type": "stream",
     "text": [
      "1.125\n",
      "-0.6328125\n",
      "-4.649688720703125\n",
      "-118.21182264061645\n",
      "-63415.11075595729\n",
      "-18096928592.854885\n",
      "-1.4737447103084353e+21\n",
      "-9.773655620229423e+42\n",
      "-4.298595488227898e+86\n",
      "-8.315065427135959e+173\n",
      "-inf\n",
      "-inf\n",
      "-inf\n",
      "-inf\n",
      "-inf\n",
      "-inf\n",
      "-inf\n",
      "-inf\n",
      "-inf\n",
      "-inf\n"
     ]
    }
   ],
   "source": [
    "r = 4.5\n",
    "x = 0.5\n",
    "n = 1\n",
    "\n",
    "def f(x):\n",
    "    x = r*x*(1-x)\n",
    "    return x\n",
    "\n",
    "while (n<=20):\n",
    "    x=r*x*(1-x)\n",
    "    n=n+1\n",
    "    print(x)"
   ]
  },
  {
   "cell_type": "code",
   "execution_count": 105,
   "metadata": {},
   "outputs": [
    {
     "name": "stdout",
     "output_type": "stream",
     "text": [
      "1.12455\n",
      "-0.6302821612499996\n",
      "-4.623919938179865\n",
      "-117.0204998979472\n",
      "-62148.68053318534\n",
      "-17381342883.134087\n",
      "-1.359499861973058e+21\n",
      "-8.317079436171436e+42\n",
      "-3.11282146564136e+86\n",
      "-4.360345864630932e+173\n",
      "-inf\n",
      "-inf\n",
      "-inf\n",
      "-inf\n",
      "-inf\n",
      "-inf\n",
      "-inf\n",
      "-inf\n",
      "-inf\n",
      "-inf\n"
     ]
    }
   ],
   "source": [
    "r = 4.5\n",
    "x = 0.51\n",
    "n = 1\n",
    "\n",
    "def f(x):\n",
    "    x = r*x*(1-x)\n",
    "    return x\n",
    "\n",
    "while (n<=20):\n",
    "    x=r*x*(1-x)\n",
    "    n=n+1\n",
    "    print(x)"
   ]
  },
  {
   "cell_type": "code",
   "execution_count": 106,
   "metadata": {},
   "outputs": [
    {
     "name": "stdout",
     "output_type": "stream",
     "text": [
      "1.1249955\n",
      "-0.6327871875911253\n",
      "-4.649430655667751\n",
      "-118.19986234888862\n",
      "-63402.33294740298\n",
      "-18089636514.7783\n",
      "-1.4725572716470052e+21\n",
      "-9.757912132262123e+42\n",
      "-4.2847582131426745e+86\n",
      "-8.261618825292122e+173\n",
      "-inf\n",
      "-inf\n",
      "-inf\n",
      "-inf\n",
      "-inf\n",
      "-inf\n",
      "-inf\n",
      "-inf\n",
      "-inf\n",
      "-inf\n"
     ]
    }
   ],
   "source": [
    "r = 4.5\n",
    "x = 0.501\n",
    "n = 1\n",
    "\n",
    "def f(x):\n",
    "    x = r*x*(1-x)\n",
    "    return x\n",
    "\n",
    "while (n<=20):\n",
    "    x=r*x*(1-x)\n",
    "    n=n+1\n",
    "    print(x)"
   ]
  },
  {
   "cell_type": "markdown",
   "metadata": {},
   "source": [
    "$$  F_{n}=F_{n-1}+F_{n-2} $$"
   ]
  },
  {
   "cell_type": "code",
   "execution_count": 1,
   "metadata": {},
   "outputs": [
    {
     "name": "stdout",
     "output_type": "stream",
     "text": [
      "n값 : 6\n",
      "8\n"
     ]
    }
   ],
   "source": [
    "def F(n):\n",
    "    if 0<n<=2:\n",
    "        n=1\n",
    "    elif 2<n:\n",
    "        n=F(n-1)+F(n-2)\n",
    "    else:\n",
    "        n=print('값이 잘못 입력되었습니다. 재실행하세요.')\n",
    "    return n\n",
    "\n",
    "n=int(input('n값 : '))\n",
    "\n",
    "print(F(n))"
   ]
  },
  {
   "cell_type": "code",
   "execution_count": null,
   "metadata": {},
   "outputs": [],
   "source": []
  },
  {
   "cell_type": "code",
   "execution_count": null,
   "metadata": {},
   "outputs": [],
   "source": []
  },
  {
   "cell_type": "code",
   "execution_count": null,
   "metadata": {},
   "outputs": [],
   "source": []
  }
 ],
 "metadata": {
  "kernelspec": {
   "display_name": "Python 3",
   "language": "python",
   "name": "python3"
  },
  "language_info": {
   "codemirror_mode": {
    "name": "ipython",
    "version": 3
   },
   "file_extension": ".py",
   "mimetype": "text/x-python",
   "name": "python",
   "nbconvert_exporter": "python",
   "pygments_lexer": "ipython3",
   "version": "3.8.5"
  }
 },
 "nbformat": 4,
 "nbformat_minor": 4
}
