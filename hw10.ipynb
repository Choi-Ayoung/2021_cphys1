{
 "cells": [
  {
   "cell_type": "markdown",
   "metadata": {},
   "source": [
    "## Gaussian Integral\n",
    "sympy를 이용하여 다음 적분들을 계산하세요."
   ]
  },
  {
   "cell_type": "markdown",
   "metadata": {},
   "source": [
    "1. $ \\int_{-\\infty}^{\\infty} e^{-ax^2} dx $\n",
    "\n"
   ]
  },
  {
   "cell_type": "code",
   "execution_count": 2,
   "metadata": {},
   "outputs": [],
   "source": [
    "import numpy as np\n",
    "import sympy\n",
    "from sympy import Symbol"
   ]
  },
  {
   "cell_type": "code",
   "execution_count": 4,
   "metadata": {},
   "outputs": [],
   "source": [
    "x = Symbol(\"x\")\n",
    "a = sympy.symbols(\"a\")"
   ]
  },
  {
   "cell_type": "code",
   "execution_count": 15,
   "metadata": {},
   "outputs": [
    {
     "data": {
      "text/latex": [
       "$\\displaystyle \\begin{cases} \\frac{\\sqrt{\\pi}}{\\sqrt{a}} & \\text{for}\\: \\left|{\\arg{\\left(a \\right)}}\\right| \\leq \\frac{\\pi}{2} \\\\\\int\\limits_{-\\infty}^{\\infty} e^{- a x^{2}}\\, dx & \\text{otherwise} \\end{cases}$"
      ],
      "text/plain": [
       "Piecewise((sqrt(pi)/sqrt(a), Abs(arg(a)) <= pi/2), (Integral(exp(-a*x**2), (x, -oo, oo)), True))"
      ]
     },
     "execution_count": 15,
     "metadata": {},
     "output_type": "execute_result"
    }
   ],
   "source": [
    "sympy.integrate(sympy.exp(-a*x**2),(x,-sympy.oo,sympy.oo))"
   ]
  },
  {
   "cell_type": "code",
   "execution_count": null,
   "metadata": {},
   "outputs": [],
   "source": []
  },
  {
   "cell_type": "markdown",
   "metadata": {},
   "source": [
    "2. $ \\int_{-\\infty}^{\\infty} x e^{-ax^2} dx $\n"
   ]
  },
  {
   "cell_type": "code",
   "execution_count": 14,
   "metadata": {
    "scrolled": true
   },
   "outputs": [
    {
     "data": {
      "text/latex": [
       "$\\displaystyle \\begin{cases} 0 & \\text{for}\\: \\left|{\\arg{\\left(a \\right)}}\\right| < \\frac{\\pi}{2} \\\\\\int\\limits_{-\\infty}^{\\infty} x e^{- a x^{2}}\\, dx & \\text{otherwise} \\end{cases}$"
      ],
      "text/plain": [
       "Piecewise((0, Abs(arg(a)) < pi/2), (Integral(x*exp(-a*x**2), (x, -oo, oo)), True))"
      ]
     },
     "execution_count": 14,
     "metadata": {},
     "output_type": "execute_result"
    }
   ],
   "source": [
    "sympy.integrate(x*sympy.exp(-a*x**2),(x,-sympy.oo,sympy.oo))"
   ]
  },
  {
   "cell_type": "code",
   "execution_count": null,
   "metadata": {},
   "outputs": [],
   "source": []
  },
  {
   "cell_type": "markdown",
   "metadata": {},
   "source": [
    "3. $ \\int_{-\\infty}^{\\infty} x^2 e^{-ax^2} dx $\n"
   ]
  },
  {
   "cell_type": "code",
   "execution_count": 13,
   "metadata": {
    "scrolled": true
   },
   "outputs": [
    {
     "data": {
      "text/latex": [
       "$\\displaystyle \\begin{cases} \\frac{\\sqrt{\\pi}}{2 a^{\\frac{3}{2}}} & \\text{for}\\: \\left|{\\arg{\\left(a \\right)}}\\right| < \\frac{\\pi}{2} \\\\\\int\\limits_{-\\infty}^{\\infty} x^{2} e^{- a x^{2}}\\, dx & \\text{otherwise} \\end{cases}$"
      ],
      "text/plain": [
       "Piecewise((sqrt(pi)/(2*a**(3/2)), Abs(arg(a)) < pi/2), (Integral(x**2*exp(-a*x**2), (x, -oo, oo)), True))"
      ]
     },
     "execution_count": 13,
     "metadata": {},
     "output_type": "execute_result"
    }
   ],
   "source": [
    "sympy.integrate((x**2)*sympy.exp(-a*x**2),(x,-sympy.oo,sympy.oo))"
   ]
  },
  {
   "cell_type": "code",
   "execution_count": null,
   "metadata": {},
   "outputs": [],
   "source": []
  },
  {
   "cell_type": "markdown",
   "metadata": {},
   "source": [
    "4. $ \\int_{-\\infty}^{\\infty} x^4 e^{-ax^2} dx $"
   ]
  },
  {
   "cell_type": "code",
   "execution_count": 12,
   "metadata": {},
   "outputs": [
    {
     "data": {
      "text/latex": [
       "$\\displaystyle \\begin{cases} \\frac{3 \\sqrt{\\pi}}{4 a^{\\frac{5}{2}}} & \\text{for}\\: \\left|{\\arg{\\left(a \\right)}}\\right| < \\frac{\\pi}{2} \\\\\\int\\limits_{-\\infty}^{\\infty} x^{4} e^{- a x^{2}}\\, dx & \\text{otherwise} \\end{cases}$"
      ],
      "text/plain": [
       "Piecewise((3*sqrt(pi)/(4*a**(5/2)), Abs(arg(a)) < pi/2), (Integral(x**4*exp(-a*x**2), (x, -oo, oo)), True))"
      ]
     },
     "execution_count": 12,
     "metadata": {},
     "output_type": "execute_result"
    }
   ],
   "source": [
    "sympy.integrate((x**4)*sympy.exp(-a*x**2),(x,-sympy.oo,sympy.oo))"
   ]
  },
  {
   "cell_type": "code",
   "execution_count": null,
   "metadata": {},
   "outputs": [],
   "source": []
  },
  {
   "cell_type": "markdown",
   "metadata": {},
   "source": [
    "## 미분방정식"
   ]
  },
  {
   "cell_type": "markdown",
   "metadata": {},
   "source": [
    "$$ x'(t)=- a x.$$"
   ]
  },
  {
   "cell_type": "markdown",
   "metadata": {},
   "source": [
    "초기조건은 다음과 같다. $x(0)=1$."
   ]
  },
  {
   "cell_type": "code",
   "execution_count": 65,
   "metadata": {},
   "outputs": [
    {
     "data": {
      "text/latex": [
       "$\\displaystyle x{\\left(t \\right)}$"
      ],
      "text/plain": [
       "x(t)"
      ]
     },
     "execution_count": 65,
     "metadata": {},
     "output_type": "execute_result"
    }
   ],
   "source": [
    "from sympy import *\n",
    "\n",
    "\n",
    "t = symbols('t')\n",
    "x = Function('x') # define x as a function of t\n",
    "x(t)"
   ]
  },
  {
   "cell_type": "code",
   "execution_count": 66,
   "metadata": {},
   "outputs": [
    {
     "data": {
      "text/latex": [
       "$\\displaystyle \\frac{d}{d t} x{\\left(t \\right)} = - a x{\\left(t \\right)}$"
      ],
      "text/plain": [
       "Eq(Derivative(x(t), t), -a*x(t))"
      ]
     },
     "execution_count": 66,
     "metadata": {},
     "output_type": "execute_result"
    }
   ],
   "source": [
    "X=Eq(x(t).diff(t),-a*x(t))\n",
    "X"
   ]
  },
  {
   "cell_type": "code",
   "execution_count": 67,
   "metadata": {
    "scrolled": true
   },
   "outputs": [
    {
     "data": {
      "text/latex": [
       "$\\displaystyle x{\\left(t \\right)} = C_{1} e^{- a t}$"
      ],
      "text/plain": [
       "Eq(x(t), C1*exp(-a*t))"
      ]
     },
     "execution_count": 67,
     "metadata": {},
     "output_type": "execute_result"
    }
   ],
   "source": [
    "dsolve(Eq(x(t).diff(t),-a*x(t)))"
   ]
  },
  {
   "cell_type": "code",
   "execution_count": 68,
   "metadata": {},
   "outputs": [
    {
     "data": {
      "text/latex": [
       "$\\displaystyle x{\\left(t \\right)} = e^{- a t}$"
      ],
      "text/plain": [
       "Eq(x(t), exp(-a*t))"
      ]
     },
     "execution_count": 68,
     "metadata": {},
     "output_type": "execute_result"
    }
   ],
   "source": [
    "dsolve(X,ics={x(0):1})"
   ]
  },
  {
   "cell_type": "markdown",
   "metadata": {},
   "source": [
    "이 때 초기조건이 x(0)=1로 주어졌으므로, 구한 방정식에서 상수 C1은 1임을 알 수 있다."
   ]
  },
  {
   "cell_type": "code",
   "execution_count": null,
   "metadata": {},
   "outputs": [],
   "source": []
  }
 ],
 "metadata": {
  "kernelspec": {
   "display_name": "Python 3",
   "language": "python",
   "name": "python3"
  },
  "language_info": {
   "codemirror_mode": {
    "name": "ipython",
    "version": 3
   },
   "file_extension": ".py",
   "mimetype": "text/x-python",
   "name": "python",
   "nbconvert_exporter": "python",
   "pygments_lexer": "ipython3",
   "version": "3.8.5"
  }
 },
 "nbformat": 4,
 "nbformat_minor": 4
}
