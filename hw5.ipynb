{
 "cells": [
  {
   "cell_type": "markdown",
   "metadata": {},
   "source": [
    "## 1. Vibration in a one-dimensional system"
   ]
  },
  {
   "cell_type": "code",
   "execution_count": 111,
   "metadata": {
    "scrolled": true
   },
   "outputs": [
    {
     "name": "stdout",
     "output_type": "stream",
     "text": [
      "[[ 0. -1.  0. ...  0.  0.  0.]\n",
      " [-1.  1. -1. ...  0.  0.  0.]\n",
      " [ 0. -1.  1. ...  0.  0.  0.]\n",
      " ...\n",
      " [ 0.  0.  0. ...  1. -1.  0.]\n",
      " [ 0.  0.  0. ... -1.  1. -1.]\n",
      " [ 0.  0.  0. ...  0. -1.  0.]]\n"
     ]
    }
   ],
   "source": [
    "import numpy as np\n",
    "\n",
    "k=1\n",
    "m=1\n",
    "A=[]\n",
    "\n",
    "for w in range(1,51,1):\n",
    "    d=2*k-m*(w**2)\n",
    "    A.append(d)\n",
    "\n",
    "## w=1\n",
    "M1 = np.eye(40,40, dtype= float)\n",
    "for i in range(0,40):\n",
    "    for j in range(0,40):\n",
    "        if i == j+1:\n",
    "            M1[i][j] = -k\n",
    "        elif j == i+1:\n",
    "            M1[i][j] = -k\n",
    "    for j in range(1,39):\n",
    "        if i == j:\n",
    "            M1[i][j]=A[0]\n",
    "    for j in range(1):\n",
    "        if i==j:\n",
    "            M1[i][j]=A[0]-k\n",
    "    for j in range(39,40):\n",
    "        if i==j:\n",
    "            M1[i][j]=A[0]-k\n",
    "print(M1)"
   ]
  },
  {
   "cell_type": "code",
   "execution_count": 142,
   "metadata": {},
   "outputs": [
    {
     "name": "stdout",
     "output_type": "stream",
     "text": [
      "[[1.]\n",
      " [0.]\n",
      " [0.]\n",
      " [0.]\n",
      " [0.]\n",
      " [0.]\n",
      " [0.]\n",
      " [0.]\n",
      " [0.]\n",
      " [0.]\n",
      " [0.]\n",
      " [0.]\n",
      " [0.]\n",
      " [0.]\n",
      " [0.]\n",
      " [0.]\n",
      " [0.]\n",
      " [0.]\n",
      " [0.]\n",
      " [0.]\n",
      " [0.]\n",
      " [0.]\n",
      " [0.]\n",
      " [0.]\n",
      " [0.]\n",
      " [0.]\n",
      " [0.]\n",
      " [0.]\n",
      " [0.]\n",
      " [0.]\n",
      " [0.]\n",
      " [0.]\n",
      " [0.]\n",
      " [0.]\n",
      " [0.]\n",
      " [0.]\n",
      " [0.]\n",
      " [0.]\n",
      " [0.]\n",
      " [0.]]\n"
     ]
    }
   ],
   "source": [
    "C=1\n",
    "b = np.eye(40,1, dtype= float)\n",
    "\n",
    "for i in range(0,40):\n",
    "    for j in range(1):\n",
    "        if i == j:\n",
    "            b[i][j] = C\n",
    "        elif j != i:\n",
    "            b[i][j] = 0\n",
    "\n",
    "print(b)"
   ]
  },
  {
   "cell_type": "markdown",
   "metadata": {},
   "source": [
    "역행렬 : Ma=b --> a=M^(-1)b "
   ]
  },
  {
   "cell_type": "code",
   "execution_count": 113,
   "metadata": {
    "scrolled": true
   },
   "outputs": [
    {
     "data": {
      "text/plain": [
       "array([[ 0., -1.,  0., ...,  0.,  0.,  0.],\n",
       "       [-1.,  1., -1., ...,  0.,  0.,  0.],\n",
       "       [ 0., -1.,  1., ...,  0.,  0.,  0.],\n",
       "       ...,\n",
       "       [ 0.,  0.,  0., ...,  1., -1.,  0.],\n",
       "       [ 0.,  0.,  0., ..., -1.,  1., -1.],\n",
       "       [ 0.,  0.,  0., ...,  0., -1.,  0.]])"
      ]
     },
     "execution_count": 113,
     "metadata": {},
     "output_type": "execute_result"
    }
   ],
   "source": [
    "np.array(M1)"
   ]
  },
  {
   "cell_type": "code",
   "execution_count": 114,
   "metadata": {},
   "outputs": [
    {
     "data": {
      "text/plain": [
       "array([[-1., -1., -0., ..., -1., -0.,  1.],\n",
       "       [-1., -0., -0., ..., -0., -0., -0.],\n",
       "       [ 0.,  0.,  0., ...,  1.,  0., -1.],\n",
       "       ...,\n",
       "       [-1., -0.,  1., ..., -0., -0., -0.],\n",
       "       [ 0.,  0.,  0., ...,  0.,  0., -1.],\n",
       "       [ 1., -0., -1., ..., -0., -1., -1.]])"
      ]
     },
     "execution_count": 114,
     "metadata": {},
     "output_type": "execute_result"
    }
   ],
   "source": [
    "invM1=np.linalg.inv(M1)\n",
    "invM1"
   ]
  },
  {
   "cell_type": "code",
   "execution_count": 155,
   "metadata": {
    "scrolled": true
   },
   "outputs": [
    {
     "name": "stdout",
     "output_type": "stream",
     "text": [
      "[[-1.]\n",
      " [-1.]\n",
      " [ 0.]\n",
      " [ 1.]\n",
      " [ 1.]\n",
      " [ 0.]\n",
      " [-1.]\n",
      " [-1.]\n",
      " [ 0.]\n",
      " [ 1.]\n",
      " [ 1.]\n",
      " [ 0.]\n",
      " [-1.]\n",
      " [-1.]\n",
      " [ 0.]\n",
      " [ 1.]\n",
      " [ 1.]\n",
      " [ 0.]\n",
      " [-1.]\n",
      " [-1.]\n",
      " [ 0.]\n",
      " [ 1.]\n",
      " [ 1.]\n",
      " [ 0.]\n",
      " [-1.]\n",
      " [-1.]\n",
      " [ 0.]\n",
      " [ 1.]\n",
      " [ 1.]\n",
      " [ 0.]\n",
      " [-1.]\n",
      " [-1.]\n",
      " [ 0.]\n",
      " [ 1.]\n",
      " [ 1.]\n",
      " [ 0.]\n",
      " [-1.]\n",
      " [-1.]\n",
      " [ 0.]\n",
      " [ 1.]]\n"
     ]
    },
    {
     "data": {
      "image/png": "[encoded data removed]",
      "text/plain": [
       "<Figure size 432x288 with 1 Axes>"
      ]
     },
     "metadata": {
      "needs_background": "light"
     },
     "output_type": "display_data"
    }
   ],
   "source": [
    "import matplotlib.pyplot as plt\n",
    "a1=np.dot(invM1,b)\n",
    "print(a1)\n",
    "plt.plot(a1,color='black');"
   ]
  },
  {
   "cell_type": "code",
   "execution_count": 154,
   "metadata": {},
   "outputs": [
    {
     "name": "stdout",
     "output_type": "stream",
     "text": [
      "[[-0.49375]\n",
      " [ 0.48125]\n",
      " [-0.46875]\n",
      " [ 0.45625]\n",
      " [-0.44375]\n",
      " [ 0.43125]\n",
      " [-0.41875]\n",
      " [ 0.40625]\n",
      " [-0.39375]\n",
      " [ 0.38125]\n",
      " [-0.36875]\n",
      " [ 0.35625]\n",
      " [-0.34375]\n",
      " [ 0.33125]\n",
      " [-0.31875]\n",
      " [ 0.30625]\n",
      " [-0.29375]\n",
      " [ 0.28125]\n",
      " [-0.26875]\n",
      " [ 0.25625]\n",
      " [-0.24375]\n",
      " [ 0.23125]\n",
      " [-0.21875]\n",
      " [ 0.20625]\n",
      " [-0.19375]\n",
      " [ 0.18125]\n",
      " [-0.16875]\n",
      " [ 0.15625]\n",
      " [-0.14375]\n",
      " [ 0.13125]\n",
      " [-0.11875]\n",
      " [ 0.10625]\n",
      " [-0.09375]\n",
      " [ 0.08125]\n",
      " [-0.06875]\n",
      " [ 0.05625]\n",
      " [-0.04375]\n",
      " [ 0.03125]\n",
      " [-0.01875]\n",
      " [ 0.00625]]\n"
     ]
    },
    {
     "data": {
      "image/png": "[encoded data removed]",
      "text/plain": [
       "<Figure size 432x288 with 1 Axes>"
      ]
     },
     "metadata": {
      "needs_background": "light"
     },
     "output_type": "display_data"
    }
   ],
   "source": [
    "## w=2\n",
    "\n",
    "M2 = np.eye(40,40, dtype= float)\n",
    "for i in range(0,40):\n",
    "    for j in range(0,40):\n",
    "        if i == j+1:\n",
    "            M2[i][j] = -k\n",
    "        elif j == i+1:\n",
    "            M2[i][j] = -k\n",
    "    for j in range(1,39):\n",
    "        if i == j:\n",
    "            M2[i][j] = A[1]\n",
    "    for j in range(1):\n",
    "        if i==j:\n",
    "            M2[i][j]=A[1]-k\n",
    "    for j in range(39,40):\n",
    "        if i==j:\n",
    "            M2[i][j]=A[1]-k\n",
    "\n",
    "C=1\n",
    "b = np.eye(40,1, dtype= float)\n",
    "\n",
    "for i in range(0,40):\n",
    "    for j in range(1):\n",
    "        if i == j:\n",
    "            b[i][j] = C\n",
    "        elif j != i:\n",
    "            b[i][j] = 0\n",
    "            \n",
    "invM2=np.linalg.inv(M2)\n",
    "import matplotlib.pyplot as plt\n",
    "a2=np.dot(invM2,b)\n",
    "print(a2)\n",
    "plt.plot(a2,color='black');"
   ]
  },
  {
   "cell_type": "code",
   "execution_count": 153,
   "metadata": {
    "scrolled": true
   },
   "outputs": [
    {
     "name": "stdout",
     "output_type": "stream",
     "text": [
      "[[-1.27322004e-01]\n",
      " [ 1.85760300e-02]\n",
      " [-2.71020625e-03]\n",
      " [ 3.95413763e-04]\n",
      " [-5.76900906e-05]\n",
      " [ 8.41687078e-06]\n",
      " [-1.22800490e-06]\n",
      " [ 1.79163500e-07]\n",
      " [-2.61396024e-08]\n",
      " [ 3.81371659e-09]\n",
      " [-5.56413751e-10]\n",
      " [ 8.11796723e-11]\n",
      " [-1.18439546e-11]\n",
      " [ 1.72800968e-12]\n",
      " [-2.52113215e-13]\n",
      " [ 3.67828224e-14]\n",
      " [-5.36654146e-15]\n",
      " [ 7.82967847e-16]\n",
      " [-1.14233469e-16]\n",
      " [ 1.66664386e-17]\n",
      " [-2.43160062e-18]\n",
      " [ 3.54765749e-19]\n",
      " [-5.17596252e-20]\n",
      " [ 7.55162754e-21]\n",
      " [-1.10176761e-21]\n",
      " [ 1.60745728e-22]\n",
      " [-2.34524856e-23]\n",
      " [ 3.42167154e-24]\n",
      " [-4.99215150e-25]\n",
      " [ 7.28345088e-26]\n",
      " [-1.06264116e-26]\n",
      " [ 1.55037256e-27]\n",
      " [-2.26196308e-28]\n",
      " [ 3.30015966e-29]\n",
      " [-4.81486806e-30]\n",
      " [ 7.02479762e-31]\n",
      " [-1.02490275e-31]\n",
      " [ 1.49521621e-32]\n",
      " [-2.17485994e-33]\n",
      " [ 2.71857493e-34]]\n"
     ]
    },
    {
     "data": {
      "image/png": "[encoded data removed]",
      "text/plain": [
       "<Figure size 432x288 with 1 Axes>"
      ]
     },
     "metadata": {
      "needs_background": "light"
     },
     "output_type": "display_data"
    }
   ],
   "source": [
    "## w=3\n",
    "\n",
    "M3 = np.eye(40,40, dtype= float)\n",
    "for i in range(0,40):\n",
    "    for j in range(0,40):\n",
    "        if i == j+1:\n",
    "            M3[i][j] = -k\n",
    "        elif j == i+1:\n",
    "            M3[i][j] = -k\n",
    "    for j in range(1,39):\n",
    "        if i == j:\n",
    "            M3[i][j] = A[2]\n",
    "    for j in range(1):\n",
    "        if i==j:\n",
    "            M3[i][j]=A[2]-k\n",
    "    for j in range(39,40):\n",
    "        if i==j:\n",
    "            M3[i][j]=A[2]-k\n",
    "\n",
    "C=1\n",
    "b = np.eye(40,1, dtype= float)\n",
    "\n",
    "for i in range(0,40):\n",
    "    for j in range(1):\n",
    "        if i == j:\n",
    "            b[i][j] = C\n",
    "        elif j != i:\n",
    "            b[i][j] = 0\n",
    "            \n",
    "invM3=np.linalg.inv(M3)\n",
    "import matplotlib.pyplot as plt\n",
    "a3=np.dot(invM3,b)\n",
    "print(a3)\n",
    "plt.plot(a3,color='black');"
   ]
  },
  {
   "cell_type": "code",
   "execution_count": 152,
   "metadata": {
    "scrolled": true
   },
   "outputs": [
    {
     "name": "stdout",
     "output_type": "stream",
     "text": [
      "[[-1.01020514e-02]\n",
      " [ 1.03092893e-04]\n",
      " [-1.05207785e-06]\n",
      " [ 1.07366064e-08]\n",
      " [-1.09568618e-10]\n",
      " [ 1.11816356e-12]\n",
      " [-1.14110205e-14]\n",
      " [ 1.16451111e-16]\n",
      " [-1.18840040e-18]\n",
      " [ 1.21277976e-20]\n",
      " [-1.23765925e-22]\n",
      " [ 1.26304913e-24]\n",
      " [-1.28895986e-26]\n",
      " [ 1.31540215e-28]\n",
      " [-1.34238688e-30]\n",
      " [ 1.36992518e-32]\n",
      " [-1.39802842e-34]\n",
      " [ 1.42670818e-36]\n",
      " [-1.45597629e-38]\n",
      " [ 1.48584482e-40]\n",
      " [-1.51632609e-42]\n",
      " [ 1.54743266e-44]\n",
      " [-1.57917736e-46]\n",
      " [ 1.61157329e-48]\n",
      " [-1.64463380e-50]\n",
      " [ 1.67837254e-52]\n",
      " [-1.71280340e-54]\n",
      " [ 1.74794059e-56]\n",
      " [-1.78379860e-58]\n",
      " [ 1.82039222e-60]\n",
      " [-1.85773653e-62]\n",
      " [ 1.89584695e-64]\n",
      " [-1.93473917e-66]\n",
      " [ 1.97442925e-68]\n",
      " [-2.01493355e-70]\n",
      " [ 2.05626877e-72]\n",
      " [-2.09845196e-74]\n",
      " [ 2.14150051e-76]\n",
      " [-2.18542986e-78]\n",
      " [ 2.20750491e-80]]\n"
     ]
    },
    {
     "data": {
      "image/png": "[encoded data removed]",
      "text/plain": [
       "<Figure size 432x288 with 1 Axes>"
      ]
     },
     "metadata": {
      "needs_background": "light"
     },
     "output_type": "display_data"
    }
   ],
   "source": [
    "## w=10\n",
    "   \n",
    "M10 = np.eye(40,40, dtype= float)\n",
    "for i in range(0,40):\n",
    "    for j in range(0,40):\n",
    "        if i == j+1:\n",
    "            M10[i][j] = -k\n",
    "        elif j == i+1:\n",
    "            M10[i][j] = -k\n",
    "    for j in range(1,39):\n",
    "        if i == j:\n",
    "            M10[i][j] = A[9]\n",
    "    for j in range(1):\n",
    "        if i==j:\n",
    "            M10[i][j]=A[9]-k\n",
    "    for j in range(39,40):\n",
    "        if i==j:\n",
    "            M10[i][j]=A[9]-k\n",
    "\n",
    "C=1\n",
    "b = np.eye(40,1, dtype= float)\n",
    "\n",
    "for i in range(0,40):\n",
    "    for j in range(1):\n",
    "        if i == j:\n",
    "            b[i][j] = C\n",
    "        elif j != i:\n",
    "            b[i][j] = 0\n",
    "            \n",
    "invM10=np.linalg.inv(M10)\n",
    "import matplotlib.pyplot as plt\n",
    "a10=np.dot(invM10,b)\n",
    "print(a10)\n",
    "plt.plot(a10,color='black');"
   ]
  },
  {
   "cell_type": "markdown",
   "metadata": {},
   "source": [
    "1번 문제처럼 한 쪽 끝에만 용수철에 힘을 가해주었을 때는 과소감쇠하는 것을 그래프를 통해 알 수 있다. \n",
    "여기서 w값 즉, d값이 증가할수록 감쇠하는 정도가 커져서 더 빨리 값이 줄어든다."
   ]
  },
  {
   "cell_type": "markdown",
   "metadata": {},
   "source": [
    "## 2. 양쪽 끝에서 힘을 가하면 어떻게 되는가?"
   ]
  },
  {
   "cell_type": "code",
   "execution_count": 135,
   "metadata": {},
   "outputs": [
    {
     "name": "stdout",
     "output_type": "stream",
     "text": [
      "[[ 0. -1.  0. ...  0.  0.  0.]\n",
      " [-1.  1. -1. ...  0.  0.  0.]\n",
      " [ 0. -1.  1. ...  0.  0.  0.]\n",
      " ...\n",
      " [ 0.  0.  0. ...  1. -1.  0.]\n",
      " [ 0.  0.  0. ... -1.  1. -1.]\n",
      " [ 0.  0.  0. ...  0. -1.  0.]]\n"
     ]
    }
   ],
   "source": [
    "import numpy as np\n",
    "\n",
    "k=1\n",
    "m=1\n",
    "A=[]\n",
    "\n",
    "for w in range(1,51,1):\n",
    "    d=2*k-m*(w**2)\n",
    "    A.append(d)\n",
    "\n",
    "## w=1\n",
    "M1 = np.eye(40,40, dtype= float)\n",
    "for i in range(0,40):\n",
    "    for j in range(0,40):\n",
    "        if i == j+1:\n",
    "            M1[i][j] = -k\n",
    "        elif j == i+1:\n",
    "            M1[i][j] = -k\n",
    "    for j in range(1,39):\n",
    "        if i == j:\n",
    "            M1[i][j] = A[0]\n",
    "    for j in range(1):\n",
    "        if i==j:\n",
    "            M1[i][j]=A[0]-k\n",
    "    for j in range(39,40):\n",
    "        if i==j:\n",
    "            M1[i][j]=A[0]-k\n",
    "print(M1)"
   ]
  },
  {
   "cell_type": "code",
   "execution_count": 137,
   "metadata": {
    "scrolled": true
   },
   "outputs": [
    {
     "name": "stdout",
     "output_type": "stream",
     "text": [
      "[[1.]\n",
      " [0.]\n",
      " [0.]\n",
      " [0.]\n",
      " [0.]\n",
      " [0.]\n",
      " [0.]\n",
      " [0.]\n",
      " [0.]\n",
      " [0.]\n",
      " [0.]\n",
      " [0.]\n",
      " [0.]\n",
      " [0.]\n",
      " [0.]\n",
      " [0.]\n",
      " [0.]\n",
      " [0.]\n",
      " [0.]\n",
      " [0.]\n",
      " [0.]\n",
      " [0.]\n",
      " [0.]\n",
      " [0.]\n",
      " [0.]\n",
      " [0.]\n",
      " [0.]\n",
      " [0.]\n",
      " [0.]\n",
      " [0.]\n",
      " [0.]\n",
      " [0.]\n",
      " [0.]\n",
      " [0.]\n",
      " [0.]\n",
      " [0.]\n",
      " [0.]\n",
      " [0.]\n",
      " [0.]\n",
      " [1.]]\n"
     ]
    }
   ],
   "source": [
    "C=1\n",
    "b = np.eye(40,1, dtype= float)\n",
    "\n",
    "for i in range(0,39):\n",
    "    for j in range(1):\n",
    "        if i == j:\n",
    "            b[i][j] = C\n",
    "        elif j != i:\n",
    "            b[i][j] = 0\n",
    "for i in range(39,40):\n",
    "    for j in range(1):\n",
    "        b[i][j] = C\n",
    "\n",
    "\n",
    "print(b)"
   ]
  },
  {
   "cell_type": "code",
   "execution_count": 133,
   "metadata": {},
   "outputs": [
    {
     "data": {
      "text/plain": [
       "array([[-1., -1., -0., ..., -1., -0.,  1.],\n",
       "       [-1., -0., -0., ..., -0., -0., -0.],\n",
       "       [ 0.,  0.,  0., ...,  1.,  0., -1.],\n",
       "       ...,\n",
       "       [-1., -0.,  1., ..., -0., -0., -0.],\n",
       "       [ 0.,  0.,  0., ...,  0.,  0., -1.],\n",
       "       [ 1., -0., -1., ..., -0., -1., -1.]])"
      ]
     },
     "execution_count": 133,
     "metadata": {},
     "output_type": "execute_result"
    }
   ],
   "source": [
    "invM=np.linalg.inv(M)\n",
    "invM"
   ]
  },
  {
   "cell_type": "code",
   "execution_count": 151,
   "metadata": {
    "scrolled": true
   },
   "outputs": [
    {
     "name": "stdout",
     "output_type": "stream",
     "text": [
      "[[ 0.]\n",
      " [-1.]\n",
      " [-1.]\n",
      " [ 0.]\n",
      " [ 1.]\n",
      " [ 1.]\n",
      " [ 0.]\n",
      " [-1.]\n",
      " [-1.]\n",
      " [ 0.]\n",
      " [ 1.]\n",
      " [ 1.]\n",
      " [ 0.]\n",
      " [-1.]\n",
      " [-1.]\n",
      " [ 0.]\n",
      " [ 1.]\n",
      " [ 1.]\n",
      " [ 0.]\n",
      " [-1.]\n",
      " [-1.]\n",
      " [ 0.]\n",
      " [ 1.]\n",
      " [ 1.]\n",
      " [ 0.]\n",
      " [-1.]\n",
      " [-1.]\n",
      " [ 0.]\n",
      " [ 1.]\n",
      " [ 1.]\n",
      " [ 0.]\n",
      " [-1.]\n",
      " [-1.]\n",
      " [ 0.]\n",
      " [ 1.]\n",
      " [ 1.]\n",
      " [ 0.]\n",
      " [-1.]\n",
      " [-1.]\n",
      " [ 0.]]\n"
     ]
    },
    {
     "data": {
      "image/png": "[encoded data removed]",
      "text/plain": [
       "<Figure size 432x288 with 1 Axes>"
      ]
     },
     "metadata": {
      "needs_background": "light"
     },
     "output_type": "display_data"
    }
   ],
   "source": [
    "import matplotlib.pyplot as plt\n",
    "a=np.dot(invM,b)\n",
    "print(a)\n",
    "plt.plot(a,color='black');"
   ]
  },
  {
   "cell_type": "code",
   "execution_count": 150,
   "metadata": {},
   "outputs": [
    {
     "name": "stdout",
     "output_type": "stream",
     "text": [
      "[[-0.4875]\n",
      " [ 0.4625]\n",
      " [-0.4375]\n",
      " [ 0.4125]\n",
      " [-0.3875]\n",
      " [ 0.3625]\n",
      " [-0.3375]\n",
      " [ 0.3125]\n",
      " [-0.2875]\n",
      " [ 0.2625]\n",
      " [-0.2375]\n",
      " [ 0.2125]\n",
      " [-0.1875]\n",
      " [ 0.1625]\n",
      " [-0.1375]\n",
      " [ 0.1125]\n",
      " [-0.0875]\n",
      " [ 0.0625]\n",
      " [-0.0375]\n",
      " [ 0.0125]\n",
      " [ 0.0125]\n",
      " [-0.0375]\n",
      " [ 0.0625]\n",
      " [-0.0875]\n",
      " [ 0.1125]\n",
      " [-0.1375]\n",
      " [ 0.1625]\n",
      " [-0.1875]\n",
      " [ 0.2125]\n",
      " [-0.2375]\n",
      " [ 0.2625]\n",
      " [-0.2875]\n",
      " [ 0.3125]\n",
      " [-0.3375]\n",
      " [ 0.3625]\n",
      " [-0.3875]\n",
      " [ 0.4125]\n",
      " [-0.4375]\n",
      " [ 0.4625]\n",
      " [-0.4875]]\n"
     ]
    },
    {
     "data": {
      "image/png": "[encoded data removed]",
      "text/plain": [
       "<Figure size 432x288 with 1 Axes>"
      ]
     },
     "metadata": {
      "needs_background": "light"
     },
     "output_type": "display_data"
    }
   ],
   "source": [
    "## w=2\n",
    "\n",
    "M2 = np.eye(40,40, dtype= float)\n",
    "for i in range(0,40):\n",
    "    for j in range(0,40):\n",
    "        if i == j+1:\n",
    "            M2[i][j] = -k\n",
    "        elif j == i+1:\n",
    "            M2[i][j] = -k\n",
    "    for j in range(1,39):\n",
    "        if i == j:\n",
    "            M2[i][j] = A[1]\n",
    "    for j in range(1):\n",
    "        if i==j:\n",
    "            M2[i][j]=A[1]-k\n",
    "    for j in range(39,40):\n",
    "        if i==j:\n",
    "            M2[i][j]=A[1]-k\n",
    "\n",
    "C=1\n",
    "b = np.eye(40,1, dtype= float)\n",
    "\n",
    "for i in range(0,39):\n",
    "    for j in range(1):\n",
    "        if i == j:\n",
    "            b[i][j] = C\n",
    "        elif j != i:\n",
    "            b[i][j] = 0\n",
    "for i in range(39,40):\n",
    "    for j in range(1):\n",
    "        b[i][j] = C\n",
    "            \n",
    "invM2=np.linalg.inv(M2)\n",
    "import matplotlib.pyplot as plt\n",
    "a2=np.dot(invM2,b)\n",
    "print(a2)\n",
    "plt.plot(a2,color='black');"
   ]
  },
  {
   "cell_type": "code",
   "execution_count": 149,
   "metadata": {},
   "outputs": [
    {
     "name": "stdout",
     "output_type": "stream",
     "text": [
      "[[-1.27322004e-01]\n",
      " [ 1.85760300e-02]\n",
      " [-2.71020625e-03]\n",
      " [ 3.95413763e-04]\n",
      " [-5.76900906e-05]\n",
      " [ 8.41687078e-06]\n",
      " [-1.22800490e-06]\n",
      " [ 1.79163500e-07]\n",
      " [-2.61396024e-08]\n",
      " [ 3.81371659e-09]\n",
      " [-5.56413751e-10]\n",
      " [ 8.11796723e-11]\n",
      " [-1.18439546e-11]\n",
      " [ 1.72800968e-12]\n",
      " [-2.52113215e-13]\n",
      " [ 3.67828213e-14]\n",
      " [-5.36653391e-15]\n",
      " [ 7.82916087e-16]\n",
      " [-1.13878704e-16]\n",
      " [ 1.42348379e-17]\n",
      " [ 1.42348379e-17]\n",
      " [-1.13878704e-16]\n",
      " [ 7.82916087e-16]\n",
      " [-5.36653391e-15]\n",
      " [ 3.67828213e-14]\n",
      " [-2.52113215e-13]\n",
      " [ 1.72800968e-12]\n",
      " [-1.18439546e-11]\n",
      " [ 8.11796723e-11]\n",
      " [-5.56413751e-10]\n",
      " [ 3.81371659e-09]\n",
      " [-2.61396024e-08]\n",
      " [ 1.79163500e-07]\n",
      " [-1.22800490e-06]\n",
      " [ 8.41687078e-06]\n",
      " [-5.76900906e-05]\n",
      " [ 3.95413763e-04]\n",
      " [-2.71020625e-03]\n",
      " [ 1.85760300e-02]\n",
      " [-1.27322004e-01]]\n"
     ]
    },
    {
     "data": {
      "image/png": "[encoded data removed]",
      "text/plain": [
       "<Figure size 432x288 with 1 Axes>"
      ]
     },
     "metadata": {
      "needs_background": "light"
     },
     "output_type": "display_data"
    }
   ],
   "source": [
    "## w=3\n",
    "\n",
    "M3 = np.eye(40,40, dtype= float)\n",
    "for i in range(0,40):\n",
    "    for j in range(0,40):\n",
    "        if i == j+1:\n",
    "            M3[i][j] = -k\n",
    "        elif j == i+1:\n",
    "            M3[i][j] = -k\n",
    "    for j in range(1,39):\n",
    "        if i == j:\n",
    "            M3[i][j] = A[2]\n",
    "    for j in range(1):\n",
    "        if i==j:\n",
    "            M3[i][j]=A[2]-k\n",
    "    for j in range(39,40):\n",
    "        if i==j:\n",
    "            M3[i][j]=A[2]-k\n",
    "\n",
    "C=1\n",
    "b = np.eye(40,1, dtype= float)\n",
    "\n",
    "for i in range(0,39):\n",
    "    for j in range(1):\n",
    "        if i == j:\n",
    "            b[i][j] = C\n",
    "        elif j != i:\n",
    "            b[i][j] = 0\n",
    "for i in range(39,40):\n",
    "    for j in range(1):\n",
    "        b[i][j] = C\n",
    "            \n",
    "invM3=np.linalg.inv(M3)\n",
    "import matplotlib.pyplot as plt\n",
    "a3=np.dot(invM3,b)\n",
    "print(a3)\n",
    "plt.plot(a3,color='black');"
   ]
  },
  {
   "cell_type": "code",
   "execution_count": 148,
   "metadata": {},
   "outputs": [
    {
     "name": "stdout",
     "output_type": "stream",
     "text": [
      "[[-1.01020514e-02]\n",
      " [ 1.03092893e-04]\n",
      " [-1.05207785e-06]\n",
      " [ 1.07366064e-08]\n",
      " [-1.09568618e-10]\n",
      " [ 1.11816356e-12]\n",
      " [-1.14110205e-14]\n",
      " [ 1.16451111e-16]\n",
      " [-1.18840040e-18]\n",
      " [ 1.21277976e-20]\n",
      " [-1.23765925e-22]\n",
      " [ 1.26304913e-24]\n",
      " [-1.28895986e-26]\n",
      " [ 1.31540215e-28]\n",
      " [-1.34238688e-30]\n",
      " [ 1.36992518e-32]\n",
      " [-1.39802842e-34]\n",
      " [ 1.42670818e-36]\n",
      " [-1.45597475e-38]\n",
      " [ 1.47068156e-40]\n",
      " [ 1.47068156e-40]\n",
      " [-1.45597475e-38]\n",
      " [ 1.42670818e-36]\n",
      " [-1.39802842e-34]\n",
      " [ 1.36992518e-32]\n",
      " [-1.34238688e-30]\n",
      " [ 1.31540215e-28]\n",
      " [-1.28895986e-26]\n",
      " [ 1.26304913e-24]\n",
      " [-1.23765925e-22]\n",
      " [ 1.21277976e-20]\n",
      " [-1.18840040e-18]\n",
      " [ 1.16451111e-16]\n",
      " [-1.14110205e-14]\n",
      " [ 1.11816356e-12]\n",
      " [-1.09568618e-10]\n",
      " [ 1.07366064e-08]\n",
      " [-1.05207785e-06]\n",
      " [ 1.03092893e-04]\n",
      " [-1.01020514e-02]]\n"
     ]
    },
    {
     "data": {
      "image/png": "[encoded data removed]",
      "text/plain": [
       "<Figure size 432x288 with 1 Axes>"
      ]
     },
     "metadata": {
      "needs_background": "light"
     },
     "output_type": "display_data"
    }
   ],
   "source": [
    "## w=10\n",
    "   \n",
    "M10 = np.eye(40,40, dtype= float)\n",
    "for i in range(0,40):\n",
    "    for j in range(0,40):\n",
    "        if i == j+1:\n",
    "            M10[i][j] = -k\n",
    "        elif j == i+1:\n",
    "            M10[i][j] = -k\n",
    "    for j in range(1,39):\n",
    "        if i == j:\n",
    "            M10[i][j] = A[9]\n",
    "    for j in range(1):\n",
    "        if i==j:\n",
    "            M10[i][j]=A[9]-k\n",
    "    for j in range(39,40):\n",
    "        if i==j:\n",
    "            M10[i][j]=A[9]-k\n",
    "\n",
    "C=1\n",
    "b = np.eye(40,1, dtype= float)\n",
    "\n",
    "for i in range(0,39):\n",
    "    for j in range(1):\n",
    "        if i == j:\n",
    "            b[i][j] = C\n",
    "        elif j != i:\n",
    "            b[i][j] = 0\n",
    "for i in range(39,40):\n",
    "    for j in range(1):\n",
    "        b[i][j] = C\n",
    "            \n",
    "invM10=np.linalg.inv(M10)\n",
    "import matplotlib.pyplot as plt\n",
    "a10=np.dot(invM10,b)\n",
    "print(a10)\n",
    "plt.plot(a10,color='black');"
   ]
  },
  {
   "cell_type": "markdown",
   "metadata": {},
   "source": [
    "2번 문제처럼 양쪽에서 동일한 힘을 가해주었을 때는 힘을 가해준 양쪽 끝에서 물체의 움직임이 가장 크고, 힘의 영향이 작은 중앙부분에서 움직임이 최소가 되는 과소감쇠를 하는 것을 그래프를 통해 확인할 수 있다. 또한 여기서도 1번과 마찬가지로 w값(d값)이 증가할수록 더 빨리 감쇠하게 된다."
   ]
  },
  {
   "cell_type": "code",
   "execution_count": null,
   "metadata": {},
   "outputs": [],
   "source": []
  }
 ],
 "metadata": {
  "kernelspec": {
   "display_name": "Python 3",
   "language": "python",
   "name": "python3"
  },
  "language_info": {
   "codemirror_mode": {
    "name": "ipython",
    "version": 3
   },
   "file_extension": ".py",
   "mimetype": "text/x-python",
   "name": "python",
   "nbconvert_exporter": "python",
   "pygments_lexer": "ipython3",
   "version": "3.8.5"
  }
 },
 "nbformat": 4,
 "nbformat_minor": 4
}
